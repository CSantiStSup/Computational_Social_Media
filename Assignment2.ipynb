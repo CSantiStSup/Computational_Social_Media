{
 "cells": [
  {
   "cell_type": "code",
   "execution_count": 13,
   "metadata": {},
   "outputs": [],
   "source": [
    "import numpy as np\n",
    "import seaborn as sns\n",
    "import pandas as pd\n",
    "from datetime import datetime\n",
    "import matplotlib.pyplot as plt\n",
    "%matplotlib inline"
   ]
  },
  {
   "cell_type": "code",
   "execution_count": 130,
   "metadata": {},
   "outputs": [],
   "source": [
    "my_personality = pd.read_csv('mypersonality_final.csv', encoding = \"ISO-8859-1\")"
   ]
  },
  {
   "cell_type": "markdown",
   "metadata": {},
   "source": [
    "Let us first take a look at the data and see what are the basic statistical components"
   ]
  },
  {
   "cell_type": "code",
   "execution_count": 131,
   "metadata": {},
   "outputs": [
    {
     "data": {
      "text/html": [
       "<div>\n",
       "<style>\n",
       "    .dataframe thead tr:only-child th {\n",
       "        text-align: right;\n",
       "    }\n",
       "\n",
       "    .dataframe thead th {\n",
       "        text-align: left;\n",
       "    }\n",
       "\n",
       "    .dataframe tbody tr th {\n",
       "        vertical-align: top;\n",
       "    }\n",
       "</style>\n",
       "<table border=\"1\" class=\"dataframe\">\n",
       "  <thead>\n",
       "    <tr style=\"text-align: right;\">\n",
       "      <th></th>\n",
       "      <th>sEXT</th>\n",
       "      <th>sNEU</th>\n",
       "      <th>sAGR</th>\n",
       "      <th>sCON</th>\n",
       "      <th>sOPN</th>\n",
       "      <th>NETWORKSIZE</th>\n",
       "      <th>BETWEENNESS</th>\n",
       "      <th>NBETWEENNESS</th>\n",
       "      <th>DENSITY</th>\n",
       "      <th>BROKERAGE</th>\n",
       "      <th>NBROKERAGE</th>\n",
       "      <th>TRANSITIVITY</th>\n",
       "    </tr>\n",
       "  </thead>\n",
       "  <tbody>\n",
       "    <tr>\n",
       "      <th>count</th>\n",
       "      <td>9917.000000</td>\n",
       "      <td>9917.000000</td>\n",
       "      <td>9917.000000</td>\n",
       "      <td>9917.000000</td>\n",
       "      <td>9917.000000</td>\n",
       "      <td>9917.000000</td>\n",
       "      <td>9.917000e+03</td>\n",
       "      <td>9917.000000</td>\n",
       "      <td>9917.000000</td>\n",
       "      <td>9.917000e+03</td>\n",
       "      <td>9917.000000</td>\n",
       "      <td>9916.000000</td>\n",
       "    </tr>\n",
       "    <tr>\n",
       "      <th>mean</th>\n",
       "      <td>3.354760</td>\n",
       "      <td>2.609453</td>\n",
       "      <td>3.616643</td>\n",
       "      <td>3.474201</td>\n",
       "      <td>4.130386</td>\n",
       "      <td>429.377120</td>\n",
       "      <td>1.354253e+05</td>\n",
       "      <td>94.665170</td>\n",
       "      <td>3.154012</td>\n",
       "      <td>1.376425e+05</td>\n",
       "      <td>0.489920</td>\n",
       "      <td>0.128821</td>\n",
       "    </tr>\n",
       "    <tr>\n",
       "      <th>std</th>\n",
       "      <td>0.857578</td>\n",
       "      <td>0.760248</td>\n",
       "      <td>0.682485</td>\n",
       "      <td>0.737215</td>\n",
       "      <td>0.585672</td>\n",
       "      <td>428.760382</td>\n",
       "      <td>1.994338e+05</td>\n",
       "      <td>5.506696</td>\n",
       "      <td>311.073343</td>\n",
       "      <td>2.013921e+05</td>\n",
       "      <td>0.011908</td>\n",
       "      <td>0.106063</td>\n",
       "    </tr>\n",
       "    <tr>\n",
       "      <th>min</th>\n",
       "      <td>1.330000</td>\n",
       "      <td>1.250000</td>\n",
       "      <td>1.650000</td>\n",
       "      <td>1.450000</td>\n",
       "      <td>2.250000</td>\n",
       "      <td>24.000000</td>\n",
       "      <td>9.325000e+01</td>\n",
       "      <td>0.040000</td>\n",
       "      <td>0.000000</td>\n",
       "      <td>4.900000e-01</td>\n",
       "      <td>0.180000</td>\n",
       "      <td>0.000000</td>\n",
       "    </tr>\n",
       "    <tr>\n",
       "      <th>25%</th>\n",
       "      <td>2.710000</td>\n",
       "      <td>2.000000</td>\n",
       "      <td>3.140000</td>\n",
       "      <td>3.000000</td>\n",
       "      <td>3.750000</td>\n",
       "      <td>196.000000</td>\n",
       "      <td>1.690220e+04</td>\n",
       "      <td>93.770000</td>\n",
       "      <td>0.010000</td>\n",
       "      <td>1.798200e+04</td>\n",
       "      <td>0.490000</td>\n",
       "      <td>0.060000</td>\n",
       "    </tr>\n",
       "    <tr>\n",
       "      <th>50%</th>\n",
       "      <td>3.400000</td>\n",
       "      <td>2.600000</td>\n",
       "      <td>3.650000</td>\n",
       "      <td>3.400000</td>\n",
       "      <td>4.250000</td>\n",
       "      <td>317.000000</td>\n",
       "      <td>4.716690e+04</td>\n",
       "      <td>96.440000</td>\n",
       "      <td>0.020000</td>\n",
       "      <td>4.868300e+04</td>\n",
       "      <td>0.490000</td>\n",
       "      <td>0.090000</td>\n",
       "    </tr>\n",
       "    <tr>\n",
       "      <th>75%</th>\n",
       "      <td>4.000000</td>\n",
       "      <td>3.050000</td>\n",
       "      <td>4.150000</td>\n",
       "      <td>4.000000</td>\n",
       "      <td>4.550000</td>\n",
       "      <td>633.000000</td>\n",
       "      <td>1.966060e+05</td>\n",
       "      <td>97.880000</td>\n",
       "      <td>0.030000</td>\n",
       "      <td>1.981860e+05</td>\n",
       "      <td>0.500000</td>\n",
       "      <td>0.170000</td>\n",
       "    </tr>\n",
       "    <tr>\n",
       "      <th>max</th>\n",
       "      <td>5.000000</td>\n",
       "      <td>4.750000</td>\n",
       "      <td>5.000000</td>\n",
       "      <td>5.000000</td>\n",
       "      <td>5.000000</td>\n",
       "      <td>29724.900000</td>\n",
       "      <td>1.251780e+06</td>\n",
       "      <td>99.820000</td>\n",
       "      <td>30978.000000</td>\n",
       "      <td>1.263790e+06</td>\n",
       "      <td>0.500000</td>\n",
       "      <td>0.630000</td>\n",
       "    </tr>\n",
       "  </tbody>\n",
       "</table>\n",
       "</div>"
      ],
      "text/plain": [
       "              sEXT         sNEU         sAGR         sCON         sOPN  \\\n",
       "count  9917.000000  9917.000000  9917.000000  9917.000000  9917.000000   \n",
       "mean      3.354760     2.609453     3.616643     3.474201     4.130386   \n",
       "std       0.857578     0.760248     0.682485     0.737215     0.585672   \n",
       "min       1.330000     1.250000     1.650000     1.450000     2.250000   \n",
       "25%       2.710000     2.000000     3.140000     3.000000     3.750000   \n",
       "50%       3.400000     2.600000     3.650000     3.400000     4.250000   \n",
       "75%       4.000000     3.050000     4.150000     4.000000     4.550000   \n",
       "max       5.000000     4.750000     5.000000     5.000000     5.000000   \n",
       "\n",
       "        NETWORKSIZE   BETWEENNESS  NBETWEENNESS       DENSITY     BROKERAGE  \\\n",
       "count   9917.000000  9.917000e+03   9917.000000   9917.000000  9.917000e+03   \n",
       "mean     429.377120  1.354253e+05     94.665170      3.154012  1.376425e+05   \n",
       "std      428.760382  1.994338e+05      5.506696    311.073343  2.013921e+05   \n",
       "min       24.000000  9.325000e+01      0.040000      0.000000  4.900000e-01   \n",
       "25%      196.000000  1.690220e+04     93.770000      0.010000  1.798200e+04   \n",
       "50%      317.000000  4.716690e+04     96.440000      0.020000  4.868300e+04   \n",
       "75%      633.000000  1.966060e+05     97.880000      0.030000  1.981860e+05   \n",
       "max    29724.900000  1.251780e+06     99.820000  30978.000000  1.263790e+06   \n",
       "\n",
       "        NBROKERAGE  TRANSITIVITY  \n",
       "count  9917.000000   9916.000000  \n",
       "mean      0.489920      0.128821  \n",
       "std       0.011908      0.106063  \n",
       "min       0.180000      0.000000  \n",
       "25%       0.490000      0.060000  \n",
       "50%       0.490000      0.090000  \n",
       "75%       0.500000      0.170000  \n",
       "max       0.500000      0.630000  "
      ]
     },
     "execution_count": 131,
     "metadata": {},
     "output_type": "execute_result"
    }
   ],
   "source": [
    "my_personality.describe()"
   ]
  },
  {
   "cell_type": "markdown",
   "metadata": {},
   "source": [
    "##### Question 3\n",
    "Using the data, compute the following descriptive statistics \n",
    "\n",
    "• Total number of users - user level stats\n",
    "\n",
    "• Total number of status updates – status level stats\n",
    "\n",
    "• Status updates per user (Mean, Median, Min, Max, Std) - status level stats \n",
    "\n",
    "##### Answer 3\n",
    "We will the descriptive statistic functions to get the answers."
   ]
  },
  {
   "cell_type": "code",
   "execution_count": 132,
   "metadata": {},
   "outputs": [
    {
     "name": "stdout",
     "output_type": "stream",
     "text": [
      "The total number of users is 250\n",
      "The total number of status update is 9917\n",
      "Descriptive statistics of status update per user:\n"
     ]
    },
    {
     "data": {
      "text/plain": [
       "count    250.000000\n",
       "mean      39.668000\n",
       "std       43.555875\n",
       "min        1.000000\n",
       "25%        8.000000\n",
       "50%       25.000000\n",
       "75%       54.750000\n",
       "max      223.000000\n",
       "Name: STATUS, dtype: float64"
      ]
     },
     "metadata": {},
     "output_type": "display_data"
    }
   ],
   "source": [
    "user_data = my_personality.groupby('#AUTHID').count()\n",
    "print(\"The total number of users is {}\" .format(len(user_data.index)))\n",
    "print(\"The total number of status update is {}\" .format(user_data.STATUS.sum()))\n",
    "\n",
    "print(\"Descriptive statistics of status update per user:\")\n",
    "display(user_data['STATUS'].describe())"
   ]
  },
  {
   "cell_type": "markdown",
   "metadata": {},
   "source": [
    "##### Question 4\n",
    "Compute the following descriptive temporal statistics \n",
    "\n",
    "• Time difference (deltas) (in hours) between consecutive status updates (Mean, Median, Min, Max, Std). Discard data from users that only have one status update. \n",
    "\n",
    "Compute this in 2 ways: \n",
    "\n",
    "    (a) At the status level: using all status updates as if they were independent (don’t mix data from different users to compute deltas!)\n",
    "\n",
    "    (b) At the user level: first compute the mean time difference for each user separately, and then use the mean value as attribute of each user to compute mean, median, etc. \n",
    "\n",
    "    (c) How different are the various statistics from the 2 ways of doing it?\n",
    "\n",
    "• Plot the histogram of timestamps of all status updates on a month-by-month basis to cover all the time period. Do you see any pattern?\n",
    "\n",
    "##### Answer 4\n",
    "\n",
    "##### Answer 4. (a)\n",
    "\n",
    "In this part part we will compute the time difference between all status updates as if they were independent.\n",
    "\n",
    "Let us first compute the values of each users as if they were independent. To do so we calculate each difference per user and aggregate it as a whole"
   ]
  },
  {
   "cell_type": "code",
   "execution_count": 133,
   "metadata": {},
   "outputs": [],
   "source": [
    "#Converting the dates into the right format\n",
    "my_personality['DATE']= pd.to_datetime(my_personality['DATE'], errors='coerce')"
   ]
  },
  {
   "cell_type": "code",
   "execution_count": 142,
   "metadata": {},
   "outputs": [
    {
     "data": {
      "text/html": [
       "<div>\n",
       "<style>\n",
       "    .dataframe thead tr:only-child th {\n",
       "        text-align: right;\n",
       "    }\n",
       "\n",
       "    .dataframe thead th {\n",
       "        text-align: left;\n",
       "    }\n",
       "\n",
       "    .dataframe tbody tr th {\n",
       "        vertical-align: top;\n",
       "    }\n",
       "</style>\n",
       "<table border=\"1\" class=\"dataframe\">\n",
       "  <thead>\n",
       "    <tr style=\"text-align: right;\">\n",
       "      <th></th>\n",
       "      <th>DATE</th>\n",
       "    </tr>\n",
       "  </thead>\n",
       "  <tbody>\n",
       "    <tr>\n",
       "      <th>count</th>\n",
       "      <td>9666</td>\n",
       "    </tr>\n",
       "    <tr>\n",
       "      <th>mean</th>\n",
       "      <td>5 days 22:58:44.996896</td>\n",
       "    </tr>\n",
       "    <tr>\n",
       "      <th>std</th>\n",
       "      <td>19 days 02:24:37.958225</td>\n",
       "    </tr>\n",
       "    <tr>\n",
       "      <th>min</th>\n",
       "      <td>0 days 00:00:00</td>\n",
       "    </tr>\n",
       "    <tr>\n",
       "      <th>25%</th>\n",
       "      <td>0 days 18:55:00</td>\n",
       "    </tr>\n",
       "    <tr>\n",
       "      <th>50%</th>\n",
       "      <td>1 days 19:52:30</td>\n",
       "    </tr>\n",
       "    <tr>\n",
       "      <th>75%</th>\n",
       "      <td>4 days 13:31:15</td>\n",
       "    </tr>\n",
       "    <tr>\n",
       "      <th>max</th>\n",
       "      <td>366 days 00:43:00</td>\n",
       "    </tr>\n",
       "  </tbody>\n",
       "</table>\n",
       "</div>"
      ],
      "text/plain": [
       "                          DATE\n",
       "count                     9666\n",
       "mean    5 days 22:58:44.996896\n",
       "std    19 days 02:24:37.958225\n",
       "min            0 days 00:00:00\n",
       "25%            0 days 18:55:00\n",
       "50%            1 days 19:52:30\n",
       "75%            4 days 13:31:15\n",
       "max          366 days 00:43:00"
      ]
     },
     "metadata": {},
     "output_type": "display_data"
    }
   ],
   "source": [
    "#Computing the differences for each user\n",
    "Authors_date_difference_a = my_personality.sort_values(['#AUTHID', 'DATE']).groupby('#AUTHID', as_index=False)['#AUTHID', 'DATE'].diff()\n",
    "#Dropping the zero values, because they correspond to the change of user or to the case when a user has only one status\n",
    "Authors_date_difference_a = Authors_date_difference_a.dropna(subset=['DATE'])\n",
    "display(Authors_date_difference_a.describe())"
   ]
  },
  {
   "cell_type": "markdown",
   "metadata": {},
   "source": [
    "###### Answer 4. (b)\n",
    "We will now compute the mean value for each user and use this to compute the overall mean. "
   ]
  },
  {
   "cell_type": "code",
   "execution_count": 277,
   "metadata": {},
   "outputs": [
    {
     "data": {
      "text/plain": [
       "count          00:03:58\n",
       "mean    11:23:21.396845\n",
       "std     02:57:54.430223\n",
       "min            01:09:00\n",
       "25%     10:14:24.868421\n",
       "50%     11:16:31.151961\n",
       "75%            12:29:00\n",
       "max            23:56:00\n",
       "Name: DATE, dtype: timedelta64[ns]"
      ]
     },
     "metadata": {},
     "output_type": "display_data"
    }
   ],
   "source": [
    "#Computing the differences and the mean for each user\n",
    "Authors_date_difference_b = pd.DataFrame(my_personality.sort_values(['#AUTHID', 'DATE']).groupby('#AUTHID', as_index=False)['DATE'].diff())\n",
    "\n",
    "#Dropping the zeros\n",
    "Authors_date_difference_b = Authors_date_difference_b.dropna(subset=['DATE'])\n",
    "\n",
    "#Turning it into seconds to compute the mean value for each user\n",
    "display(pd.to_timedelta(Authors_date_difference_b['DATE'].dt.seconds.mean(level=0).describe(), unit='s'))"
   ]
  },
  {
   "cell_type": "code",
   "execution_count": null,
   "metadata": {},
   "outputs": [],
   "source": []
  },
  {
   "cell_type": "markdown",
   "metadata": {},
   "source": [
    "##### Question 5\n",
    "Plot the cumulative distribution for:\n",
    "\n",
    "    • number of status updates per user\n",
    "\n",
    "    • Number of characters-per-message (at the status level)\n",
    "\n",
    "    • Time difference between consecutive status updates (at the status level)\n",
    "\n",
    "    • Depending on the specific variable to plot, use either a linear X axisor a logarithmic one."
   ]
  },
  {
   "cell_type": "code",
   "execution_count": null,
   "metadata": {},
   "outputs": [],
   "source": []
  },
  {
   "cell_type": "markdown",
   "metadata": {},
   "source": [
    "##### Question 6\n",
    "Using the Network features:\n",
    "\n",
    "\n",
    "• Generate descriptive statistics for each network feature per user (Mean, Median, Min, Max, Std) \n",
    "\n",
    "\n",
    "• Plot the cumulative distribution for each network feature per user.\n",
    "\n",
    "##### Answer 6\n",
    "\n",
    "Let us first create a subest of the data in order to work with this object instead of the original dataframe."
   ]
  },
  {
   "cell_type": "code",
   "execution_count": 60,
   "metadata": {},
   "outputs": [],
   "source": [
    "Network_features = my_personality[['#AUTHID','NETWORKSIZE', 'BETWEENNESS',\n",
    "                                   'NBETWEENNESS','DENSITY', 'BROKERAGE', \n",
    "                                   'NBROKERAGE', 'TRANSITIVITY']]\n",
    "Network_features = Network_features.set_index('#AUTHID')\n",
    "\n",
    "#Cleaning the DataFrame and getting rid of NaN values\n",
    "Network_features = Network_features.dropna(how='any')"
   ]
  },
  {
   "cell_type": "code",
   "execution_count": 61,
   "metadata": {},
   "outputs": [
    {
     "data": {
      "text/plain": [
       "count    9916.000000\n",
       "mean      426.422751\n",
       "std       311.908261\n",
       "min        24.000000\n",
       "25%       196.000000\n",
       "Name: NETWORKSIZE, dtype: float64"
      ]
     },
     "metadata": {},
     "output_type": "display_data"
    },
    {
     "data": {
      "image/png": "[encoded data removed]",
      "text/plain": [
       "<matplotlib.figure.Figure at 0x15f63b06ac8>"
      ]
     },
     "metadata": {},
     "output_type": "display_data"
    },
    {
     "data": {
      "text/plain": [
       "count      9916.000000\n",
       "mean     135438.963208\n",
       "std      199439.229077\n",
       "min         185.710000\n",
       "25%       16902.200000\n",
       "Name: BETWEENNESS, dtype: float64"
      ]
     },
     "metadata": {},
     "output_type": "display_data"
    },
    {
     "data": {
      "image/png": "[encoded data removed]",
      "text/plain": [
       "<matplotlib.figure.Figure at 0x15f622d66a0>"
      ]
     },
     "metadata": {},
     "output_type": "display_data"
    },
    {
     "data": {
      "text/plain": [
       "count    9916.000000\n",
       "mean       94.674713\n",
       "std         5.424353\n",
       "min        31.210000\n",
       "25%        93.770000\n",
       "Name: NBETWEENNESS, dtype: float64"
      ]
     },
     "metadata": {},
     "output_type": "display_data"
    },
    {
     "data": {
      "image/png": "[encoded data removed]",
      "text/plain": [
       "<matplotlib.figure.Figure at 0x15f62205908>"
      ]
     },
     "metadata": {},
     "output_type": "display_data"
    },
    {
     "data": {
      "text/plain": [
       "count    9916.000000\n",
       "mean        0.030288\n",
       "std         0.027709\n",
       "min         0.000000\n",
       "25%         0.010000\n",
       "Name: DENSITY, dtype: float64"
      ]
     },
     "metadata": {},
     "output_type": "display_data"
    },
    {
     "data": {
      "image/png": "[encoded data removed]",
      "text/plain": [
       "<matplotlib.figure.Figure at 0x15f63a374e0>"
      ]
     },
     "metadata": {},
     "output_type": "display_data"
    },
    {
     "data": {
      "text/plain": [
       "count      9916.000000\n",
       "mean     137656.356999\n",
       "std      201397.478019\n",
       "min         241.000000\n",
       "25%       17982.000000\n",
       "Name: BROKERAGE, dtype: float64"
      ]
     },
     "metadata": {},
     "output_type": "display_data"
    },
    {
     "data": {
      "image/png": "[encoded data removed]",
      "text/plain": [
       "<matplotlib.figure.Figure at 0x15f627183c8>"
      ]
     },
     "metadata": {},
     "output_type": "display_data"
    },
    {
     "data": {
      "text/plain": [
       "count    9916.000000\n",
       "mean        0.489952\n",
       "std         0.011494\n",
       "min         0.320000\n",
       "25%         0.490000\n",
       "Name: NBROKERAGE, dtype: float64"
      ]
     },
     "metadata": {},
     "output_type": "display_data"
    },
    {
     "data": {
      "image/png": "[encoded data removed]",
      "text/plain": [
       "<matplotlib.figure.Figure at 0x15f63b21550>"
      ]
     },
     "metadata": {},
     "output_type": "display_data"
    },
    {
     "data": {
      "text/plain": [
       "count    9916.000000\n",
       "mean        0.128821\n",
       "std         0.106063\n",
       "min         0.000000\n",
       "25%         0.060000\n",
       "Name: TRANSITIVITY, dtype: float64"
      ]
     },
     "metadata": {},
     "output_type": "display_data"
    },
    {
     "data": {
      "image/png": "[encoded data removed]",
      "text/plain": [
       "<matplotlib.figure.Figure at 0x15f62951320>"
      ]
     },
     "metadata": {},
     "output_type": "display_data"
    }
   ],
   "source": [
    "for column in Network_features.columns:\n",
    "    display(Network_features[column].describe().head())\n",
    "    sns.distplot(Network_features[column],\n",
    "             hist_kws=dict(cumulative=True),\n",
    "             kde_kws=dict(cumulative=True))\n",
    "    plt.show()\n",
    "    plt.close()\n"
   ]
  },
  {
   "cell_type": "code",
   "execution_count": null,
   "metadata": {},
   "outputs": [],
   "source": []
  },
  {
   "cell_type": "markdown",
   "metadata": {},
   "source": [
    "###### Question 7\n",
    "Using the Personality trait  features:\n",
    "\n",
    "• Generate descriptive statistics for each trait (Mean, Median, Min, Max, Std)  \n",
    "\n",
    "• Plot the cumulative distribution for each big-5 trait.\n",
    "\n",
    "##### Answer 7\n",
    "\n",
    "Grouping the data per user and then extracting the features"
   ]
  },
  {
   "cell_type": "code",
   "execution_count": 63,
   "metadata": {},
   "outputs": [],
   "source": [
    "PersonalData = my_personality[['#AUTHID', 'sEXT', 'sNEU', 'sAGR', 'sCON', 'sOPN']]\n",
    "\n",
    "PersonalData = PersonalData.set_index('#AUTHID')\n",
    "\n",
    "#Cleaning the DataFrame and getting rid of NaN values\n",
    "PersonalData = PersonalData.dropna(how='any')"
   ]
  },
  {
   "cell_type": "code",
   "execution_count": 64,
   "metadata": {},
   "outputs": [
    {
     "data": {
      "text/plain": [
       "count    9917.000000\n",
       "mean        3.354760\n",
       "std         0.857578\n",
       "min         1.330000\n",
       "25%         2.710000\n",
       "Name: sEXT, dtype: float64"
      ]
     },
     "metadata": {},
     "output_type": "display_data"
    },
    {
     "data": {
      "image/png": "[encoded data removed]",
      "text/plain": [
       "<matplotlib.figure.Figure at 0x15f6265f588>"
      ]
     },
     "metadata": {},
     "output_type": "display_data"
    },
    {
     "data": {
      "text/plain": [
       "count    9917.000000\n",
       "mean        2.609453\n",
       "std         0.760248\n",
       "min         1.250000\n",
       "25%         2.000000\n",
       "Name: sNEU, dtype: float64"
      ]
     },
     "metadata": {},
     "output_type": "display_data"
    },
    {
     "data": {
      "image/png": "[encoded data removed]",
      "text/plain": [
       "<matplotlib.figure.Figure at 0x15f624937f0>"
      ]
     },
     "metadata": {},
     "output_type": "display_data"
    },
    {
     "data": {
      "text/plain": [
       "count    9917.000000\n",
       "mean        3.616643\n",
       "std         0.682485\n",
       "min         1.650000\n",
       "25%         3.140000\n",
       "Name: sAGR, dtype: float64"
      ]
     },
     "metadata": {},
     "output_type": "display_data"
    },
    {
     "data": {
      "image/png": "[encoded data removed]",
      "text/plain": [
       "<matplotlib.figure.Figure at 0x15f62871ba8>"
      ]
     },
     "metadata": {},
     "output_type": "display_data"
    },
    {
     "data": {
      "text/plain": [
       "count    9917.000000\n",
       "mean        3.474201\n",
       "std         0.737215\n",
       "min         1.450000\n",
       "25%         3.000000\n",
       "Name: sCON, dtype: float64"
      ]
     },
     "metadata": {},
     "output_type": "display_data"
    },
    {
     "data": {
      "image/png": "[encoded data removed]",
      "text/plain": [
       "<matplotlib.figure.Figure at 0x15f616e9208>"
      ]
     },
     "metadata": {},
     "output_type": "display_data"
    },
    {
     "data": {
      "text/plain": [
       "count    9917.000000\n",
       "mean        4.130386\n",
       "std         0.585672\n",
       "min         2.250000\n",
       "25%         3.750000\n",
       "Name: sOPN, dtype: float64"
      ]
     },
     "metadata": {},
     "output_type": "display_data"
    },
    {
     "data": {
      "image/png": "[encoded data removed]",
      "text/plain": [
       "<matplotlib.figure.Figure at 0x15f6277a080>"
      ]
     },
     "metadata": {},
     "output_type": "display_data"
    }
   ],
   "source": [
    "for column in PersonalData.columns:\n",
    "    display(PersonalData[column].describe().head())\n",
    "    sns.distplot(PersonalData[column],\n",
    "             hist_kws=dict(cumulative=True),\n",
    "             kde_kws=dict(cumulative=True))\n",
    "    plt.show()\n",
    "    plt.close()"
   ]
  },
  {
   "cell_type": "code",
   "execution_count": null,
   "metadata": {},
   "outputs": [],
   "source": []
  }
 ],
 "metadata": {
  "kernelspec": {
   "display_name": "Python [default]",
   "language": "python",
   "name": "python3"
  },
  "language_info": {
   "codemirror_mode": {
    "name": "ipython",
    "version": 3
   },
   "file_extension": ".py",
   "mimetype": "text/x-python",
   "name": "python",
   "nbconvert_exporter": "python",
   "pygments_lexer": "ipython3",
   "version": "3.6.3"
  }
 },
 "nbformat": 4,
 "nbformat_minor": 2
}
